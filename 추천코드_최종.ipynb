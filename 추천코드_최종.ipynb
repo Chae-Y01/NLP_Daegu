{
 "cells": [
  {
   "cell_type": "markdown",
   "id": "7e5aa93a-17c8-45ec-bdb3-95028f2f5a76",
   "metadata": {},
   "source": [
    "# 관광지 추천"
   ]
  },
  {
   "cell_type": "markdown",
   "id": "9fec8e32-3470-4320-8576-b32b379a672a",
   "metadata": {},
   "source": [
    "### 1. 데이터 불러오기"
   ]
  },
  {
   "cell_type": "code",
   "execution_count": null,
   "id": "a068ed10-100c-4ed9-97c1-8d44b6a283a9",
   "metadata": {},
   "outputs": [],
   "source": [
    "import pandas as pd\n",
    "\n",
    "# 데이터 불러오기\n",
    "tourist_spots_df = pd.read_csv('./최종_data/관광지리스트_데이터.csv')\n",
    "sentiment_df = pd.read_csv('./최종_data/감정분석_데이터.csv')"
   ]
  },
  {
   "cell_type": "markdown",
   "id": "c2006c30-cebc-4c9e-9fe3-b26f23f03de5",
   "metadata": {
    "tags": []
   },
   "source": [
    "### 2-1. 한국어 말뭉치로 Word2Vec 모델 학습"
   ]
  },
  {
   "cell_type": "code",
   "execution_count": null,
   "id": "e5561d80-1137-4420-b70c-69a89ba04923",
   "metadata": {},
   "outputs": [],
   "source": [
    "import os\n",
    "import json\n",
    "from gensim.models import Word2Vec\n",
    "from nltk.tokenize import word_tokenize\n",
    "\n",
    "# '여행레저' 폴더의 경로\n",
    "corpus_root = './여행레저'\n",
    "\n",
    "# 모든 JSON 파일을 읽어서 말뭉치를 만듭니다\n",
    "sentences = []\n",
    "\n",
    "for filename in os.listdir(corpus_root):\n",
    "    if filename.endswith('.json'):\n",
    "        file_path = os.path.join(corpus_root, filename)\n",
    "        with open(file_path, 'r', encoding='utf-8') as file:\n",
    "            data = json.load(file)\n",
    "            for item in data.get(\"SJML\", {}).get(\"text\", []):  # 각 JSON 객체를 반복\n",
    "                if 'content' in item:  # 'content' 필드가 있다고 가정\n",
    "                    text = item['content']\n",
    "                    tokenized_sentence = word_tokenize(text)\n",
    "                    sentences.append(tokenized_sentence)\n",
    "\n",
    "# 만약 sentences 리스트가 비어있지 않은지 확인\n",
    "if len(sentences) > 0:\n",
    "    # Word2Vec 모델 초기화\n",
    "    word2vec_model = Word2Vec(vector_size=300, window=5, min_count=5, workers=4)\n",
    "\n",
    "    # 어휘 구축\n",
    "    word2vec_model.build_vocab(sentences)\n",
    "\n",
    "    # 어휘 크기 출력 (디버깅용)\n",
    "    print(f\"Vocabulary size: {len(word2vec_model.wv)}\")\n",
    "\n",
    "    # 모델 학습\n",
    "    word2vec_model.train(sentences, total_examples=word2vec_model.corpus_count, epochs=word2vec_model.epochs)\n",
    "else:\n",
    "    print(\"No sentences found for training.\")"
   ]
  },
  {
   "cell_type": "markdown",
   "id": "f5a193f5-1e9c-4ac1-bd61-6bff6f7d229e",
   "metadata": {},
   "source": [
    "### 2-2. 학습된 모델 저장 했으니, 향후 꺼내다 쓸때"
   ]
  },
  {
   "cell_type": "code",
   "execution_count": null,
   "id": "5fe79310-eb6d-448c-b003-d87af13c7873",
   "metadata": {},
   "outputs": [],
   "source": [
    "from gensim.models import Word2Vec\n",
    "\n",
    "# 모델 로드\n",
    "word2vec_model = Word2Vec.load('./여행레저_말뭉치_Word2Vec 모델/여행레저_말뭉치.model')"
   ]
  },
  {
   "cell_type": "markdown",
   "id": "b236d161-1518-4aa6-a2b7-f501e94b46a0",
   "metadata": {},
   "source": [
    "### 3. 입력 키워드 & 관광지리스트 키워드간 유사도 계산"
   ]
  },
  {
   "cell_type": "code",
   "execution_count": null,
   "id": "71b00266-c783-48c9-abc3-c77df1d680be",
   "metadata": {},
   "outputs": [],
   "source": [
    "# 유사한 키워드를 찾는 함수 (유사도 점수 포함)\n",
    "def get_most_similar_keywords(input_keyword, keywords, model):\n",
    "    similarities = []\n",
    "    \n",
    "    for keyword in keywords:\n",
    "        try:\n",
    "            # 두 키워드 간의 유사도 계산\n",
    "            similarity = min(model.wv.similarity(input_keyword, keyword), 1.0)\n",
    "        except KeyError:\n",
    "            # 만약 키워드가 모델에 없는 경우 유사도를 0으로 설정\n",
    "            similarity = 0\n",
    "        similarities.append((keyword, similarity))\n",
    "    \n",
    "    # 유사도가 높은 키워드 2개 선택\n",
    "    top_k = 2\n",
    "    sorted_similarities = sorted(similarities, key=lambda x: x[1], reverse=True)[:top_k]\n",
    "    \n",
    "    return sorted_similarities\n",
    "\n",
    "# 관광지리스트_데이터에서 키워드 리스트 가져오기\n",
    "keywords = tourist_spots_df['키워드'].tolist()\n",
    "\n",
    "# 사용자가 입력한 키워드\n",
    "input_keyword = input('원하는 여행 키워드를 입력하세요:')\n",
    "\n",
    "# 가장 유사한 키워드 2개 찾기\n",
    "similar_keywords = get_most_similar_keywords(input_keyword, keywords, word2vec_model)\n",
    "\n",
    "# 유사한 키워드와 점수 출력\n",
    "for keyword, score in similar_keywords:\n",
    "    print(f\"키워드: {keyword}, 유사도 점수: {score:.3f}\")"
   ]
  },
  {
   "cell_type": "markdown",
   "id": "f515cbdc-676b-4fb8-9c3e-61881b076681",
   "metadata": {},
   "source": [
    "### 4. 사용자가 선택한 키워드의 관광지 리스트 출력"
   ]
  },
  {
   "cell_type": "code",
   "execution_count": null,
   "id": "7651497c-c07b-471d-bce1-d7a7e2d93e10",
   "metadata": {},
   "outputs": [],
   "source": [
    "# 사용자가 입력한 키워드\n",
    "user_input = input(\"출력된 두 키워드 중 더 원하는 하나를 입력하세요: \").strip()\n",
    "\n",
    "# 입력된 키워드에 따라 적절한 항목을 반환\n",
    "selected_keyword = None\n",
    "for keyword, score in similar_keywords:\n",
    "    if user_input == keyword:\n",
    "        selected_keyword = (keyword, score)\n",
    "        break"
   ]
  },
  {
   "cell_type": "code",
   "execution_count": null,
   "id": "55a9abd8-a57c-4dc2-9eec-d8f57b591a04",
   "metadata": {},
   "outputs": [],
   "source": [
    "# 선택한 키워드에 해당하는 관광지 리스트 출력\n",
    "\n",
    "tourist_spots = tourist_spots_df[tourist_spots_df['키워드'] == selected_keyword[0]]"
   ]
  },
  {
   "cell_type": "code",
   "execution_count": null,
   "id": "ec1cba5b-a474-4d9a-94de-8bff7757437d",
   "metadata": {},
   "outputs": [],
   "source": [
    "# 첫 번째 행의 '관광지 리스트' 컬럼 데이터를 가져와서 ','를 기준으로 분리\n",
    "\n",
    "tourist_spots_list = tourist_spots_df.iloc[0]['관광지 리스트'].split(',')"
   ]
  },
  {
   "cell_type": "markdown",
   "id": "fcb59379-aa75-417c-ad04-c2482a70f473",
   "metadata": {},
   "source": [
    "### 5. 감정분석 데이터에서 각 관광지의 감정분석 점수 계산"
   ]
  },
  {
   "cell_type": "code",
   "execution_count": null,
   "id": "16992dd6-e15b-4f9f-bca9-c8f170b87178",
   "metadata": {},
   "outputs": [],
   "source": [
    "# 관광지별로 Sentiment_Lemma 평균값 계산\n",
    "\n",
    "sentiment_scores = []\n",
    "\n",
    "for spot in tourist_spots_list:\n",
    "    spot = spot.strip()  # 앞뒤 공백 제거\n",
    "    # sentiment_df에서 해당 관광지와 일치하는 행을 찾음\n",
    "    matching_rows = sentiment_df[sentiment_df['관광지'] == spot]\n",
    "    \n",
    "    if not matching_rows.empty:\n",
    "        # Sentiment_Lemma 평균값 계산\n",
    "        avg_sentiment = matching_rows['Sentiment_Lemma'].mean()\n",
    "        sentiment_scores.append((spot, avg_sentiment))"
   ]
  },
  {
   "cell_type": "markdown",
   "id": "047f368b-6409-49ec-9b4c-95bd076cb71a",
   "metadata": {},
   "source": [
    "### 6-1. 감정분석 점수 TOP3 관광지 출력 (최종 선택 방법)"
   ]
  },
  {
   "cell_type": "code",
   "execution_count": null,
   "id": "488aeef2-3e64-405f-aa62-3bfa5f101639",
   "metadata": {},
   "outputs": [],
   "source": [
    "# 평균값을 기준으로 내림차순 정렬 후 상위 3개 관광지 선택\n",
    "top_3_sentiments = sorted(sentiment_scores, key=lambda x: x[1], reverse=True)[:3]\n",
    "\n",
    "# 결과 출력\n",
    "for spot, score in top_3_sentiments:\n",
    "    print(f\"관광지: {spot}, 감정분석 평균 점수: {round(score, 3)}\")"
   ]
  },
  {
   "cell_type": "markdown",
   "id": "453355e7-8699-4068-9ad0-cd69af08da6e",
   "metadata": {},
   "source": [
    "### 6-2. 감정분석 점수 상위 50% & 키워드와 관광지 이름간의 유사성 고려해서 Top1 관광지 출력"
   ]
  },
  {
   "cell_type": "code",
   "execution_count": null,
   "id": "20bd563a-3b6e-475e-911b-8fb72b5254d4",
   "metadata": {},
   "outputs": [],
   "source": [
    "import numpy as np\n",
    "\n",
    "# 관광지별로 Sentiment_Lemma 평균값 계산\n",
    "sentiment_scores = []\n",
    "\n",
    "for spot in tourist_spots_list:\n",
    "    spot = spot.strip()  # 앞뒤 공백 제거\n",
    "    # sentiment_df에서 해당 관광지와 일치하는 행을 찾음\n",
    "    matching_rows = sentiment_df[sentiment_df['관광지'] == spot]\n",
    "    \n",
    "    if not matching_rows.empty:\n",
    "        # Sentiment_Lemma 평균값 계산\n",
    "        avg_sentiment = matching_rows['Sentiment_Lemma'].mean()\n",
    "        sentiment_scores.append((spot, avg_sentiment))\n",
    "\n",
    "# 평균값을 기준으로 내림차순 정렬\n",
    "sorted_sentiments = sorted(sentiment_scores, key=lambda x: x[1], reverse=True)\n",
    "\n",
    "# 상위 50%의 관광지 선택\n",
    "top_50_percent_cutoff = np.percentile([score for _, score in sorted_sentiments], 50)\n",
    "top_50_percent_spots = [spot for spot, score in sorted_sentiments if score >= top_50_percent_cutoff]\n",
    "\n",
    "# 상위 50% 관광지 중에서 키워드와의 유사도를 계산\n",
    "similarity_scores = []\n",
    "\n",
    "for spot in top_50_percent_spots:\n",
    "    try:\n",
    "        similarity = word2vec_model.wv.similarity(input_keyword, spot)\n",
    "        similarity_scores.append((spot, similarity))\n",
    "    except KeyError:\n",
    "        continue  \n",
    "\n",
    "# 유사도가 높은 관광지 1개 선택\n",
    "top_similar_spots = sorted(similarity_scores, key=lambda x: x[1], reverse=True)[:1]\n",
    "\n",
    "# 결과 출력\n",
    "for spot, similarity in top_similar_spots:\n",
    "    print(f\"관광지: {spot}, 유사도 점수: {round(similarity, 3)}\")"
   ]
  }
 ],
 "metadata": {
  "kernelspec": {
   "display_name": "Python 3 (ipykernel)",
   "language": "python",
   "name": "python3"
  },
  "language_info": {
   "codemirror_mode": {
    "name": "ipython",
    "version": 3
   },
   "file_extension": ".py",
   "mimetype": "text/x-python",
   "name": "python",
   "nbconvert_exporter": "python",
   "pygments_lexer": "ipython3",
   "version": "3.11.5"
  }
 },
 "nbformat": 4,
 "nbformat_minor": 5
}
